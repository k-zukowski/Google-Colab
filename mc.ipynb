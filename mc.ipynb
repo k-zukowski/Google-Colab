{
  "cells": [
    {
      "cell_type": "markdown",
      "metadata": {
        "id": "view-in-github",
        "colab_type": "text"
      },
      "source": [
        "<a href=\"https://colab.research.google.com/github/k-zukowski/Google-Colab/blob/main/mc.ipynb\" target=\"_parent\"><img src=\"https://colab.research.google.com/assets/colab-badge.svg\" alt=\"Open In Colab\"/></a>"
      ]
    },
    {
      "cell_type": "code",
      "source": [
        "ls"
      ],
      "metadata": {
        "colab": {
          "base_uri": "https://localhost:8080/"
        },
        "id": "0a4Kr35caAzk",
        "outputId": "2f0500d3-6324-45d5-ac35-c18771ee34c6"
      },
      "execution_count": 7,
      "outputs": [
        {
          "output_type": "stream",
          "name": "stdout",
          "text": [
            "\u001b[0m\u001b[01;34msample_data\u001b[0m/  server.jar\n"
          ]
        }
      ]
    },
    {
      "cell_type": "code",
      "execution_count": 3,
      "metadata": {
        "id": "OkbGqT-PYjV3"
      },
      "outputs": [],
      "source": [
        "# Run and print a shell command.\n",
        "def run(cmd):\n",
        "  print('>> {}'.format(cmd))\n",
        "  !{cmd}  # This is magic to run 'cmd' in the shell.\n",
        "  print('')"
      ]
    },
    {
      "cell_type": "code",
      "execution_count": 5,
      "metadata": {
        "colab": {
          "base_uri": "https://localhost:8080/"
        },
        "id": "v3CmSf_2V-Vd",
        "outputId": "9bdf26dd-a65a-4b2f-aeac-c9bcacf8787b"
      },
      "outputs": [
        {
          "output_type": "execute_result",
          "data": {
            "text/plain": [
              "45538778"
            ]
          },
          "metadata": {},
          "execution_count": 5
        }
      ],
      "source": [
        "import requests\n",
        "URL = \"https://launcher.mojang.com/v1/objects/e00c4052dac1d59a1188b2aa9d5a87113aaf1122/server.jar\"\n",
        "response = requests.get(URL)\n",
        "open(\"server.jar\", \"wb\").write(response.content)\n",
        "\n"
      ]
    },
    {
      "cell_type": "code",
      "execution_count": 6,
      "metadata": {
        "id": "EZuhvHWkhttZ",
        "colab": {
          "base_uri": "https://localhost:8080/"
        },
        "outputId": "90b2d98c-cccb-4c9d-de86-3e727f3c3d49"
      },
      "outputs": [
        {
          "output_type": "stream",
          "name": "stdout",
          "text": [
            ">> add-apt-repository -y ppa:openjdk-r/ppa\n",
            "Hit:1 https://developer.download.nvidia.com/compute/cuda/repos/ubuntu1804/x86_64  InRelease\n",
            "Get:2 https://cloud.r-project.org/bin/linux/ubuntu bionic-cran40/ InRelease [3,626 B]\n",
            "Ign:3 https://developer.download.nvidia.com/compute/machine-learning/repos/ubuntu1804/x86_64  InRelease\n",
            "Hit:4 https://developer.download.nvidia.com/compute/machine-learning/repos/ubuntu1804/x86_64  Release\n",
            "Get:5 http://security.ubuntu.com/ubuntu bionic-security InRelease [88.7 kB]\n",
            "Hit:6 http://ppa.launchpad.net/c2d4u.team/c2d4u4.0+/ubuntu bionic InRelease\n",
            "Hit:7 http://archive.ubuntu.com/ubuntu bionic InRelease\n",
            "Get:8 http://archive.ubuntu.com/ubuntu bionic-updates InRelease [88.7 kB]\n",
            "Hit:9 http://ppa.launchpad.net/cran/libgit2/ubuntu bionic InRelease\n",
            "Get:10 https://cloud.r-project.org/bin/linux/ubuntu bionic-cran40/ Packages [85.6 kB]\n",
            "Hit:11 http://ppa.launchpad.net/deadsnakes/ppa/ubuntu bionic InRelease\n",
            "Get:13 http://archive.ubuntu.com/ubuntu bionic-backports InRelease [74.6 kB]\n",
            "Hit:14 http://ppa.launchpad.net/graphics-drivers/ppa/ubuntu bionic InRelease\n",
            "Get:15 http://ppa.launchpad.net/openjdk-r/ppa/ubuntu bionic InRelease [20.8 kB]\n",
            "Get:16 http://security.ubuntu.com/ubuntu bionic-security/restricted amd64 Packages [1,057 kB]\n",
            "Get:17 http://archive.ubuntu.com/ubuntu bionic-updates/restricted amd64 Packages [1,103 kB]\n",
            "Get:18 http://security.ubuntu.com/ubuntu bionic-security/main amd64 Packages [2,897 kB]\n",
            "Get:19 http://security.ubuntu.com/ubuntu bionic-security/universe amd64 Packages [1,526 kB]\n",
            "Get:20 http://archive.ubuntu.com/ubuntu bionic-updates/main amd64 Packages [3,331 kB]\n",
            "Get:21 http://archive.ubuntu.com/ubuntu bionic-updates/universe amd64 Packages [2,302 kB]\n",
            "Get:22 http://ppa.launchpad.net/openjdk-r/ppa/ubuntu bionic/main amd64 Packages [19.3 kB]\n",
            "Fetched 12.6 MB in 4s (2,935 kB/s)\n",
            "Reading package lists... Done\n",
            "\n",
            ">> sudo apt install -y openjdk-17-jdk\n",
            "Reading package lists... Done\n",
            "Building dependency tree       \n",
            "Reading state information... Done\n",
            "The following package was automatically installed and is no longer required:\n",
            "  libnvidia-common-460\n",
            "Use 'sudo apt autoremove' to remove it.\n",
            "The following additional packages will be installed:\n",
            "  fonts-dejavu-core fonts-dejavu-extra libatk-wrapper-java\n",
            "  libatk-wrapper-java-jni libxxf86dga1 openjdk-17-jdk-headless openjdk-17-jre\n",
            "  openjdk-17-jre-headless x11-utils\n",
            "Suggested packages:\n",
            "  openjdk-17-demo openjdk-17-source visualvm libnss-mdns fonts-ipafont-gothic\n",
            "  fonts-ipafont-mincho fonts-wqy-microhei | fonts-wqy-zenhei fonts-indic\n",
            "  mesa-utils\n",
            "The following NEW packages will be installed:\n",
            "  fonts-dejavu-core fonts-dejavu-extra libatk-wrapper-java\n",
            "  libatk-wrapper-java-jni libxxf86dga1 openjdk-17-jdk openjdk-17-jdk-headless\n",
            "  openjdk-17-jre openjdk-17-jre-headless x11-utils\n",
            "0 upgraded, 10 newly installed, 0 to remove and 64 not upgraded.\n",
            "Need to get 287 MB of archives.\n",
            "After this operation, 453 MB of additional disk space will be used.\n",
            "Get:1 http://archive.ubuntu.com/ubuntu bionic/main amd64 libxxf86dga1 amd64 2:1.1.4-1 [13.7 kB]\n",
            "Get:2 http://archive.ubuntu.com/ubuntu bionic/main amd64 fonts-dejavu-core all 2.37-1 [1,041 kB]\n",
            "Get:3 http://archive.ubuntu.com/ubuntu bionic/main amd64 fonts-dejavu-extra all 2.37-1 [1,953 kB]\n",
            "Get:4 http://archive.ubuntu.com/ubuntu bionic/main amd64 x11-utils amd64 7.7+3build1 [196 kB]\n",
            "Get:5 http://archive.ubuntu.com/ubuntu bionic/main amd64 libatk-wrapper-java all 0.33.3-20ubuntu0.1 [34.7 kB]\n",
            "Get:6 http://archive.ubuntu.com/ubuntu bionic/main amd64 libatk-wrapper-java-jni amd64 0.33.3-20ubuntu0.1 [28.3 kB]\n",
            "Get:7 http://archive.ubuntu.com/ubuntu bionic-updates/universe amd64 openjdk-17-jre-headless amd64 17.0.3+7-0ubuntu0.18.04.1 [43.5 MB]\n",
            "Get:8 http://archive.ubuntu.com/ubuntu bionic-updates/universe amd64 openjdk-17-jre amd64 17.0.3+7-0ubuntu0.18.04.1 [165 kB]\n",
            "Get:9 http://archive.ubuntu.com/ubuntu bionic-updates/universe amd64 openjdk-17-jdk-headless amd64 17.0.3+7-0ubuntu0.18.04.1 [240 MB]\n",
            "Get:10 http://archive.ubuntu.com/ubuntu bionic-updates/universe amd64 openjdk-17-jdk amd64 17.0.3+7-0ubuntu0.18.04.1 [10.6 kB]\n",
            "Fetched 287 MB in 15s (19.6 MB/s)\n",
            "debconf: unable to initialize frontend: Dialog\n",
            "debconf: (No usable dialog-like program is installed, so the dialog based frontend cannot be used. at /usr/share/perl5/Debconf/FrontEnd/Dialog.pm line 76, <> line 10.)\n",
            "debconf: falling back to frontend: Readline\n",
            "debconf: unable to initialize frontend: Readline\n",
            "debconf: (This frontend requires a controlling tty.)\n",
            "debconf: falling back to frontend: Teletype\n",
            "dpkg-preconfigure: unable to re-open stdin: \n",
            "Selecting previously unselected package libxxf86dga1:amd64.\n",
            "(Reading database ... 155653 files and directories currently installed.)\n",
            "Preparing to unpack .../0-libxxf86dga1_2%3a1.1.4-1_amd64.deb ...\n",
            "Unpacking libxxf86dga1:amd64 (2:1.1.4-1) ...\n",
            "Selecting previously unselected package fonts-dejavu-core.\n",
            "Preparing to unpack .../1-fonts-dejavu-core_2.37-1_all.deb ...\n",
            "Unpacking fonts-dejavu-core (2.37-1) ...\n",
            "Selecting previously unselected package fonts-dejavu-extra.\n",
            "Preparing to unpack .../2-fonts-dejavu-extra_2.37-1_all.deb ...\n",
            "Unpacking fonts-dejavu-extra (2.37-1) ...\n",
            "Selecting previously unselected package x11-utils.\n",
            "Preparing to unpack .../3-x11-utils_7.7+3build1_amd64.deb ...\n",
            "Unpacking x11-utils (7.7+3build1) ...\n",
            "Selecting previously unselected package libatk-wrapper-java.\n",
            "Preparing to unpack .../4-libatk-wrapper-java_0.33.3-20ubuntu0.1_all.deb ...\n",
            "Unpacking libatk-wrapper-java (0.33.3-20ubuntu0.1) ...\n",
            "Selecting previously unselected package libatk-wrapper-java-jni:amd64.\n",
            "Preparing to unpack .../5-libatk-wrapper-java-jni_0.33.3-20ubuntu0.1_amd64.deb ...\n",
            "Unpacking libatk-wrapper-java-jni:amd64 (0.33.3-20ubuntu0.1) ...\n",
            "Selecting previously unselected package openjdk-17-jre-headless:amd64.\n",
            "Preparing to unpack .../6-openjdk-17-jre-headless_17.0.3+7-0ubuntu0.18.04.1_amd64.deb ...\n",
            "Unpacking openjdk-17-jre-headless:amd64 (17.0.3+7-0ubuntu0.18.04.1) ...\n",
            "Selecting previously unselected package openjdk-17-jre:amd64.\n",
            "Preparing to unpack .../7-openjdk-17-jre_17.0.3+7-0ubuntu0.18.04.1_amd64.deb ...\n",
            "Unpacking openjdk-17-jre:amd64 (17.0.3+7-0ubuntu0.18.04.1) ...\n",
            "Selecting previously unselected package openjdk-17-jdk-headless:amd64.\n",
            "Preparing to unpack .../8-openjdk-17-jdk-headless_17.0.3+7-0ubuntu0.18.04.1_amd64.deb ...\n",
            "Unpacking openjdk-17-jdk-headless:amd64 (17.0.3+7-0ubuntu0.18.04.1) ...\n",
            "Selecting previously unselected package openjdk-17-jdk:amd64.\n",
            "Preparing to unpack .../9-openjdk-17-jdk_17.0.3+7-0ubuntu0.18.04.1_amd64.deb ...\n",
            "Unpacking openjdk-17-jdk:amd64 (17.0.3+7-0ubuntu0.18.04.1) ...\n",
            "Setting up fonts-dejavu-core (2.37-1) ...\n",
            "Setting up openjdk-17-jre-headless:amd64 (17.0.3+7-0ubuntu0.18.04.1) ...\n",
            "update-alternatives: using /usr/lib/jvm/java-17-openjdk-amd64/bin/java to provide /usr/bin/java (java) in auto mode\n",
            "update-alternatives: using /usr/lib/jvm/java-17-openjdk-amd64/bin/jpackage to provide /usr/bin/jpackage (jpackage) in auto mode\n",
            "update-alternatives: using /usr/lib/jvm/java-17-openjdk-amd64/bin/keytool to provide /usr/bin/keytool (keytool) in auto mode\n",
            "update-alternatives: using /usr/lib/jvm/java-17-openjdk-amd64/bin/rmiregistry to provide /usr/bin/rmiregistry (rmiregistry) in auto mode\n",
            "update-alternatives: using /usr/lib/jvm/java-17-openjdk-amd64/lib/jexec to provide /usr/bin/jexec (jexec) in auto mode\n",
            "Setting up libxxf86dga1:amd64 (2:1.1.4-1) ...\n",
            "Setting up fonts-dejavu-extra (2.37-1) ...\n",
            "Setting up openjdk-17-jre:amd64 (17.0.3+7-0ubuntu0.18.04.1) ...\n",
            "Setting up openjdk-17-jdk-headless:amd64 (17.0.3+7-0ubuntu0.18.04.1) ...\n",
            "update-alternatives: using /usr/lib/jvm/java-17-openjdk-amd64/bin/jar to provide /usr/bin/jar (jar) in auto mode\n",
            "update-alternatives: using /usr/lib/jvm/java-17-openjdk-amd64/bin/jarsigner to provide /usr/bin/jarsigner (jarsigner) in auto mode\n",
            "update-alternatives: using /usr/lib/jvm/java-17-openjdk-amd64/bin/javac to provide /usr/bin/javac (javac) in auto mode\n",
            "update-alternatives: using /usr/lib/jvm/java-17-openjdk-amd64/bin/javadoc to provide /usr/bin/javadoc (javadoc) in auto mode\n",
            "update-alternatives: using /usr/lib/jvm/java-17-openjdk-amd64/bin/javap to provide /usr/bin/javap (javap) in auto mode\n",
            "update-alternatives: using /usr/lib/jvm/java-17-openjdk-amd64/bin/jcmd to provide /usr/bin/jcmd (jcmd) in auto mode\n",
            "update-alternatives: using /usr/lib/jvm/java-17-openjdk-amd64/bin/jdb to provide /usr/bin/jdb (jdb) in auto mode\n",
            "update-alternatives: using /usr/lib/jvm/java-17-openjdk-amd64/bin/jdeprscan to provide /usr/bin/jdeprscan (jdeprscan) in auto mode\n",
            "update-alternatives: using /usr/lib/jvm/java-17-openjdk-amd64/bin/jdeps to provide /usr/bin/jdeps (jdeps) in auto mode\n",
            "update-alternatives: using /usr/lib/jvm/java-17-openjdk-amd64/bin/jfr to provide /usr/bin/jfr (jfr) in auto mode\n",
            "update-alternatives: using /usr/lib/jvm/java-17-openjdk-amd64/bin/jimage to provide /usr/bin/jimage (jimage) in auto mode\n",
            "update-alternatives: using /usr/lib/jvm/java-17-openjdk-amd64/bin/jinfo to provide /usr/bin/jinfo (jinfo) in auto mode\n",
            "update-alternatives: using /usr/lib/jvm/java-17-openjdk-amd64/bin/jlink to provide /usr/bin/jlink (jlink) in auto mode\n",
            "update-alternatives: using /usr/lib/jvm/java-17-openjdk-amd64/bin/jmap to provide /usr/bin/jmap (jmap) in auto mode\n",
            "update-alternatives: using /usr/lib/jvm/java-17-openjdk-amd64/bin/jmod to provide /usr/bin/jmod (jmod) in auto mode\n",
            "update-alternatives: using /usr/lib/jvm/java-17-openjdk-amd64/bin/jps to provide /usr/bin/jps (jps) in auto mode\n",
            "update-alternatives: using /usr/lib/jvm/java-17-openjdk-amd64/bin/jrunscript to provide /usr/bin/jrunscript (jrunscript) in auto mode\n",
            "update-alternatives: using /usr/lib/jvm/java-17-openjdk-amd64/bin/jshell to provide /usr/bin/jshell (jshell) in auto mode\n",
            "update-alternatives: using /usr/lib/jvm/java-17-openjdk-amd64/bin/jstack to provide /usr/bin/jstack (jstack) in auto mode\n",
            "update-alternatives: using /usr/lib/jvm/java-17-openjdk-amd64/bin/jstat to provide /usr/bin/jstat (jstat) in auto mode\n",
            "update-alternatives: using /usr/lib/jvm/java-17-openjdk-amd64/bin/jstatd to provide /usr/bin/jstatd (jstatd) in auto mode\n",
            "update-alternatives: using /usr/lib/jvm/java-17-openjdk-amd64/bin/serialver to provide /usr/bin/serialver (serialver) in auto mode\n",
            "update-alternatives: using /usr/lib/jvm/java-17-openjdk-amd64/bin/jhsdb to provide /usr/bin/jhsdb (jhsdb) in auto mode\n",
            "Setting up x11-utils (7.7+3build1) ...\n",
            "Setting up openjdk-17-jdk:amd64 (17.0.3+7-0ubuntu0.18.04.1) ...\n",
            "update-alternatives: using /usr/lib/jvm/java-17-openjdk-amd64/bin/jconsole to provide /usr/bin/jconsole (jconsole) in auto mode\n",
            "Setting up libatk-wrapper-java (0.33.3-20ubuntu0.1) ...\n",
            "Setting up libatk-wrapper-java-jni:amd64 (0.33.3-20ubuntu0.1) ...\n",
            "Processing triggers for man-db (2.8.3-2ubuntu0.1) ...\n",
            "Processing triggers for hicolor-icon-theme (0.17-2) ...\n",
            "Processing triggers for fontconfig (2.12.6-0ubuntu2) ...\n",
            "Processing triggers for mime-support (3.60ubuntu1) ...\n",
            "Processing triggers for libc-bin (2.27-3ubuntu1.3) ...\n",
            "/sbin/ldconfig.real: /usr/local/lib/python3.7/dist-packages/ideep4py/lib/libmkldnn.so.0 is not a symbolic link\n",
            "\n",
            "\n",
            ">> java -version\n",
            "openjdk version \"17.0.3\" 2022-04-19\n",
            "OpenJDK Runtime Environment (build 17.0.3+7-Ubuntu-0ubuntu0.18.04.1)\n",
            "OpenJDK 64-Bit Server VM (build 17.0.3+7-Ubuntu-0ubuntu0.18.04.1, mixed mode, sharing)\n",
            "\n"
          ]
        }
      ],
      "source": [
        "run('add-apt-repository -y ppa:openjdk-r/ppa')\n",
        "run('sudo apt install -y openjdk-17-jdk')\n",
        "run('java -version')"
      ]
    },
    {
      "cell_type": "code",
      "execution_count": 8,
      "metadata": {
        "id": "V9T4jzwTZvSX",
        "colab": {
          "base_uri": "https://localhost:8080/"
        },
        "outputId": "991bc015-45ad-47b1-fa6d-bf10f9bf2a06"
      },
      "outputs": [
        {
          "output_type": "stream",
          "name": "stdout",
          "text": [
            ">> java -jar server.jar\n",
            "Unpacking 1.19/server-1.19.jar (versions:1.19) to versions/1.19/server-1.19.jar\n",
            "Unpacking com/github/oshi/oshi-core/5.8.5/oshi-core-5.8.5.jar (libraries:com.github.oshi:oshi-core:5.8.5) to libraries/com/github/oshi/oshi-core/5.8.5/oshi-core-5.8.5.jar\n",
            "Unpacking com/google/code/gson/gson/2.8.9/gson-2.8.9.jar (libraries:com.google.code.gson:gson:2.8.9) to libraries/com/google/code/gson/gson/2.8.9/gson-2.8.9.jar\n",
            "Unpacking com/google/guava/failureaccess/1.0.1/failureaccess-1.0.1.jar (libraries:com.google.guava:failureaccess:1.0.1) to libraries/com/google/guava/failureaccess/1.0.1/failureaccess-1.0.1.jar\n",
            "Unpacking com/google/guava/guava/31.0.1-jre/guava-31.0.1-jre.jar (libraries:com.google.guava:guava:31.0.1-jre) to libraries/com/google/guava/guava/31.0.1-jre/guava-31.0.1-jre.jar\n",
            "Unpacking com/mojang/authlib/3.5.41/authlib-3.5.41.jar (libraries:com.mojang:authlib:3.5.41) to libraries/com/mojang/authlib/3.5.41/authlib-3.5.41.jar\n",
            "Unpacking com/mojang/brigadier/1.0.18/brigadier-1.0.18.jar (libraries:com.mojang:brigadier:1.0.18) to libraries/com/mojang/brigadier/1.0.18/brigadier-1.0.18.jar\n",
            "Unpacking com/mojang/datafixerupper/5.0.28/datafixerupper-5.0.28.jar (libraries:com.mojang:datafixerupper:5.0.28) to libraries/com/mojang/datafixerupper/5.0.28/datafixerupper-5.0.28.jar\n",
            "Unpacking com/mojang/javabridge/1.2.24/javabridge-1.2.24.jar (libraries:com.mojang:javabridge:1.2.24) to libraries/com/mojang/javabridge/1.2.24/javabridge-1.2.24.jar\n",
            "Unpacking com/mojang/logging/1.0.0/logging-1.0.0.jar (libraries:com.mojang:logging:1.0.0) to libraries/com/mojang/logging/1.0.0/logging-1.0.0.jar\n",
            "Unpacking commons-io/commons-io/2.11.0/commons-io-2.11.0.jar (libraries:commons-io:commons-io:2.11.0) to libraries/commons-io/commons-io/2.11.0/commons-io-2.11.0.jar\n",
            "Unpacking io/netty/netty-buffer/4.1.76.Final/netty-buffer-4.1.76.Final.jar (libraries:io.netty:netty-buffer:4.1.76.Final) to libraries/io/netty/netty-buffer/4.1.76.Final/netty-buffer-4.1.76.Final.jar\n",
            "Unpacking io/netty/netty-codec/4.1.76.Final/netty-codec-4.1.76.Final.jar (libraries:io.netty:netty-codec:4.1.76.Final) to libraries/io/netty/netty-codec/4.1.76.Final/netty-codec-4.1.76.Final.jar\n",
            "Unpacking io/netty/netty-common/4.1.76.Final/netty-common-4.1.76.Final.jar (libraries:io.netty:netty-common:4.1.76.Final) to libraries/io/netty/netty-common/4.1.76.Final/netty-common-4.1.76.Final.jar\n",
            "Unpacking io/netty/netty-handler/4.1.76.Final/netty-handler-4.1.76.Final.jar (libraries:io.netty:netty-handler:4.1.76.Final) to libraries/io/netty/netty-handler/4.1.76.Final/netty-handler-4.1.76.Final.jar\n",
            "Unpacking io/netty/netty-resolver/4.1.76.Final/netty-resolver-4.1.76.Final.jar (libraries:io.netty:netty-resolver:4.1.76.Final) to libraries/io/netty/netty-resolver/4.1.76.Final/netty-resolver-4.1.76.Final.jar\n",
            "Unpacking io/netty/netty-transport/4.1.76.Final/netty-transport-4.1.76.Final.jar (libraries:io.netty:netty-transport:4.1.76.Final) to libraries/io/netty/netty-transport/4.1.76.Final/netty-transport-4.1.76.Final.jar\n",
            "Unpacking io/netty/netty-transport-classes-epoll/4.1.76.Final/netty-transport-classes-epoll-4.1.76.Final.jar (libraries:io.netty:netty-transport-classes-epoll:4.1.76.Final) to libraries/io/netty/netty-transport-classes-epoll/4.1.76.Final/netty-transport-classes-epoll-4.1.76.Final.jar\n",
            "Unpacking io/netty/netty-transport-native-epoll/4.1.76.Final/netty-transport-native-epoll-4.1.76.Final-linux-x86_64.jar (libraries:io.netty:netty-transport-native-epoll:4.1.76.Final:linux-x86_64) to libraries/io/netty/netty-transport-native-epoll/4.1.76.Final/netty-transport-native-epoll-4.1.76.Final-linux-x86_64.jar\n",
            "Unpacking io/netty/netty-transport-native-epoll/4.1.76.Final/netty-transport-native-epoll-4.1.76.Final-linux-aarch_64.jar (libraries:io.netty:netty-transport-native-epoll:4.1.76.Final:linux-aarch_64) to libraries/io/netty/netty-transport-native-epoll/4.1.76.Final/netty-transport-native-epoll-4.1.76.Final-linux-aarch_64.jar\n",
            "Unpacking io/netty/netty-transport-native-unix-common/4.1.76.Final/netty-transport-native-unix-common-4.1.76.Final.jar (libraries:io.netty:netty-transport-native-unix-common:4.1.76.Final) to libraries/io/netty/netty-transport-native-unix-common/4.1.76.Final/netty-transport-native-unix-common-4.1.76.Final.jar\n",
            "Unpacking it/unimi/dsi/fastutil/8.5.6/fastutil-8.5.6.jar (libraries:it.unimi.dsi:fastutil:8.5.6) to libraries/it/unimi/dsi/fastutil/8.5.6/fastutil-8.5.6.jar\n",
            "Unpacking net/java/dev/jna/jna/5.10.0/jna-5.10.0.jar (libraries:net.java.dev.jna:jna:5.10.0) to libraries/net/java/dev/jna/jna/5.10.0/jna-5.10.0.jar\n",
            "Unpacking net/java/dev/jna/jna-platform/5.10.0/jna-platform-5.10.0.jar (libraries:net.java.dev.jna:jna-platform:5.10.0) to libraries/net/java/dev/jna/jna-platform/5.10.0/jna-platform-5.10.0.jar\n",
            "Unpacking net/sf/jopt-simple/jopt-simple/5.0.4/jopt-simple-5.0.4.jar (libraries:net.sf.jopt-simple:jopt-simple:5.0.4) to libraries/net/sf/jopt-simple/jopt-simple/5.0.4/jopt-simple-5.0.4.jar\n",
            "Unpacking org/apache/commons/commons-lang3/3.12.0/commons-lang3-3.12.0.jar (libraries:org.apache.commons:commons-lang3:3.12.0) to libraries/org/apache/commons/commons-lang3/3.12.0/commons-lang3-3.12.0.jar\n",
            "Unpacking org/apache/logging/log4j/log4j-api/2.17.0/log4j-api-2.17.0.jar (libraries:org.apache.logging.log4j:log4j-api:2.17.0) to libraries/org/apache/logging/log4j/log4j-api/2.17.0/log4j-api-2.17.0.jar\n",
            "Unpacking org/apache/logging/log4j/log4j-core/2.17.0/log4j-core-2.17.0.jar (libraries:org.apache.logging.log4j:log4j-core:2.17.0) to libraries/org/apache/logging/log4j/log4j-core/2.17.0/log4j-core-2.17.0.jar\n",
            "Unpacking org/apache/logging/log4j/log4j-slf4j18-impl/2.17.0/log4j-slf4j18-impl-2.17.0.jar (libraries:org.apache.logging.log4j:log4j-slf4j18-impl:2.17.0) to libraries/org/apache/logging/log4j/log4j-slf4j18-impl/2.17.0/log4j-slf4j18-impl-2.17.0.jar\n",
            "Unpacking org/slf4j/slf4j-api/1.8.0-beta4/slf4j-api-1.8.0-beta4.jar (libraries:org.slf4j:slf4j-api:1.8.0-beta4) to libraries/org/slf4j/slf4j-api/1.8.0-beta4/slf4j-api-1.8.0-beta4.jar\n",
            "Starting net.minecraft.server.Main\n",
            "[13:05:26] [ServerMain/INFO]: Building unoptimized datafixer\n",
            "[13:05:28] [ServerMain/ERROR]: Failed to load properties from file: server.properties\n",
            "[13:05:28] [ServerMain/WARN]: Failed to load eula.txt\n",
            "[13:05:28] [ServerMain/INFO]: You need to agree to the EULA in order to run the server. Go to eula.txt for more info.\n",
            "\n"
          ]
        }
      ],
      "source": [
        "run('java -jar server.jar')"
      ]
    },
    {
      "cell_type": "code",
      "execution_count": 9,
      "metadata": {
        "id": "nDqo7qcgb_Ka"
      },
      "outputs": [],
      "source": [
        "# Read in the file\n",
        "with open('eula.txt', 'r') as file :\n",
        "  filedata = file.read()\n",
        "\n",
        "# Replace the target string\n",
        "filedata = filedata.replace('false', 'true')\n",
        "\n",
        "# Write the file out again\n",
        "with open('eula.txt', 'w') as file:\n",
        "  file.write(filedata)"
      ]
    },
    {
      "cell_type": "code",
      "execution_count": 14,
      "metadata": {
        "id": "7CBdIpvm3BgA"
      },
      "outputs": [],
      "source": [
        "# Read in the file\n",
        "with open('server.properties', 'r') as file :\n",
        "  filedata = file.read()\n",
        "\n",
        "# Replace the target string\n",
        "filedata = filedata.replace('online-mode=true', 'online-mode=false')\n",
        "\n",
        "# Write the file out again\n",
        "with open('server.properties', 'w') as file:\n",
        "  file.write(filedata)"
      ]
    },
    {
      "cell_type": "code",
      "execution_count": 10,
      "metadata": {
        "colab": {
          "base_uri": "https://localhost:8080/"
        },
        "id": "Yi8I2SY-kxKR",
        "outputId": "09b8581f-bccc-4cdd-ddbf-363cc0d0cd14"
      },
      "outputs": [
        {
          "output_type": "execute_result",
          "data": {
            "text/plain": [
              "7189521"
            ]
          },
          "metadata": {},
          "execution_count": 10
        }
      ],
      "source": [
        "import requests\n",
        "URL = \"https://bin.equinox.io/c/bNyj1mQVY4c/ngrok-v3-stable-linux-amd64.tgz\"\n",
        "response = requests.get(URL)\n",
        "open(\"ngrok-v3-stable-linux-amd64.tgz\", \"wb\").write(response.content)\n"
      ]
    },
    {
      "cell_type": "code",
      "execution_count": 11,
      "metadata": {
        "id": "-kPDtVd4l41w",
        "colab": {
          "base_uri": "https://localhost:8080/"
        },
        "outputId": "d35585e0-9df3-45ff-c5b9-040dcdc06af6"
      },
      "outputs": [
        {
          "output_type": "stream",
          "name": "stdout",
          "text": [
            ">> sudo tar xvzf /content/ngrok-v3-stable-linux-amd64.tgz -C /content/\n",
            "ngrok\n",
            "\n"
          ]
        }
      ],
      "source": [
        "run ('sudo tar xvzf /content/ngrok-v3-stable-linux-amd64.tgz -C /content/')"
      ]
    },
    {
      "cell_type": "code",
      "execution_count": 15,
      "metadata": {
        "id": "N9ee7wCLnbd_",
        "colab": {
          "base_uri": "https://localhost:8080/"
        },
        "outputId": "2a4d55d0-9d4a-4cef-bf68-41ee013f7e45"
      },
      "outputs": [
        {
          "output_type": "stream",
          "name": "stdout",
          "text": [
            ">> ./ngrok config add-authtoken 2C6x0lzidRyFnfQ62XqlE06OVf8_4ZCZuTWGyizVwvJHZanBi\n",
            "Authtoken saved to configuration file: /root/.config/ngrok/ngrok.yml\n",
            "\n"
          ]
        }
      ],
      "source": [
        "run('./ngrok config add-authtoken 2C6x0lzidRyFnfQ62XqlE06OVf8_4ZCZuTWGyizVwvJHZanBi')\n"
      ]
    },
    {
      "cell_type": "code",
      "execution_count": null,
      "metadata": {
        "id": "mOwaTUIv0JsO"
      },
      "outputs": [],
      "source": [
        "from multiprocessing import Process\n",
        "\n",
        "def func1():\n",
        "  print ('func1: starting')\n",
        "  run('java -Xms4G -Xmx4G -jar server.jar nogui')\n",
        "  print ('func1: finishing')\n",
        "\n",
        "def func2():\n",
        "  print ('func2: starting')\n",
        "  run('./ngrok tcp --region=eu 25565')\n",
        "  print ('func2: finishing')\n",
        "\n",
        "if __name__ == '__main__':\n",
        "  p1 = Process(target=func1)\n",
        "  p1.start()\n",
        "  p2 = Process(target=func2)\n",
        "  p2.start()\n",
        "  p1.join()\n",
        "  p2.join()"
      ]
    }
  ],
  "metadata": {
    "colab": {
      "collapsed_sections": [],
      "name": "mc.ipynb",
      "provenance": [],
      "authorship_tag": "ABX9TyMUrVWFYCXAp68n6qVh9+W8",
      "include_colab_link": true
    },
    "kernelspec": {
      "display_name": "Python 3",
      "name": "python3"
    },
    "language_info": {
      "name": "python"
    }
  },
  "nbformat": 4,
  "nbformat_minor": 0
}