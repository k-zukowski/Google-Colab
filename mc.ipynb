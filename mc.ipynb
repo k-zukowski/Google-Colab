{
  "cells": [
    {
      "cell_type": "markdown",
      "metadata": {
        "id": "view-in-github",
        "colab_type": "text"
      },
      "source": [
        "<a href=\"https://colab.research.google.com/github/k-zukowski/Google-Colab/blob/main/mc.ipynb\" target=\"_parent\"><img src=\"https://colab.research.google.com/assets/colab-badge.svg\" alt=\"Open In Colab\"/></a>"
      ]
    },
    {
      "cell_type": "code",
      "source": [
        "ls"
      ],
      "metadata": {
        "colab": {
          "base_uri": "https://localhost:8080/"
        },
        "id": "0a4Kr35caAzk",
        "outputId": "786b2a64-f112-4e97-88fb-1449d71a19e3"
      },
      "execution_count": 15,
      "outputs": [
        {
          "output_type": "stream",
          "name": "stdout",
          "text": [
            "eula.txt    \u001b[0m\u001b[01;32mngrok\u001b[0m*                           server.jar         world.zip\n",
            "\u001b[01;34mlibraries\u001b[0m/  ngrok-v3-stable-linux-amd64.tgz  server.properties\n",
            "\u001b[01;34mlogs\u001b[0m/       \u001b[01;34msample_data\u001b[0m/                     \u001b[01;34mversions\u001b[0m/\n"
          ]
        }
      ]
    },
    {
      "cell_type": "code",
      "execution_count": 1,
      "metadata": {
        "id": "OkbGqT-PYjV3"
      },
      "outputs": [],
      "source": [
        "# Run and print a shell command.\n",
        "def run(cmd):\n",
        "  print('>> {}'.format(cmd))\n",
        "  !{cmd}  # This is magic to run 'cmd' in the shell.\n",
        "  print('')"
      ]
    },
    {
      "cell_type": "code",
      "execution_count": 2,
      "metadata": {
        "colab": {
          "base_uri": "https://localhost:8080/"
        },
        "id": "v3CmSf_2V-Vd",
        "outputId": "15ec52bb-207e-4d39-e7a3-9a266e6672a0"
      },
      "outputs": [
        {
          "output_type": "execute_result",
          "data": {
            "text/plain": [
              "45538778"
            ]
          },
          "metadata": {},
          "execution_count": 2
        }
      ],
      "source": [
        "import requests\n",
        "URL = \"https://launcher.mojang.com/v1/objects/e00c4052dac1d59a1188b2aa9d5a87113aaf1122/server.jar\"\n",
        "response = requests.get(URL)\n",
        "open(\"server.jar\", \"wb\").write(response.content)\n",
        "\n"
      ]
    },
    {
      "cell_type": "code",
      "execution_count": 3,
      "metadata": {
        "id": "EZuhvHWkhttZ",
        "colab": {
          "base_uri": "https://localhost:8080/"
        },
        "outputId": "6a1b91b8-eeb8-4ba8-d0e6-4ea3f43d54ed"
      },
      "outputs": [
        {
          "output_type": "stream",
          "name": "stdout",
          "text": [
            ">> add-apt-repository -y ppa:openjdk-r/ppa > /dev/null\n",
            "\n",
            ">> sudo apt install -y openjdk-17-jdk > /dev/null\n",
            "\n",
            "WARNING: apt does not have a stable CLI interface. Use with caution in scripts.\n",
            "\n",
            "debconf: unable to initialize frontend: Dialog\n",
            "debconf: (No usable dialog-like program is installed, so the dialog based frontend cannot be used. at /usr/share/perl5/Debconf/FrontEnd/Dialog.pm line 76, <> line 10.)\n",
            "debconf: falling back to frontend: Readline\n",
            "debconf: unable to initialize frontend: Readline\n",
            "debconf: (This frontend requires a controlling tty.)\n",
            "debconf: falling back to frontend: Teletype\n",
            "dpkg-preconfigure: unable to re-open stdin: \n",
            "\n",
            ">> java -version\n",
            "openjdk version \"17.0.3\" 2022-04-19\n",
            "OpenJDK Runtime Environment (build 17.0.3+7-Ubuntu-0ubuntu0.18.04.1)\n",
            "OpenJDK 64-Bit Server VM (build 17.0.3+7-Ubuntu-0ubuntu0.18.04.1, mixed mode, sharing)\n",
            "\n"
          ]
        }
      ],
      "source": [
        "run('add-apt-repository -y ppa:openjdk-r/ppa > /dev/null')\n",
        "run('sudo apt install -y openjdk-17-jdk > /dev/null')\n",
        "run('java -version')"
      ]
    },
    {
      "cell_type": "code",
      "execution_count": 4,
      "metadata": {
        "id": "V9T4jzwTZvSX",
        "colab": {
          "base_uri": "https://localhost:8080/"
        },
        "outputId": "0d646a7b-cf7e-4640-be49-0bf16928f08e"
      },
      "outputs": [
        {
          "output_type": "stream",
          "name": "stdout",
          "text": [
            ">> java -jar server.jar\n",
            "Unpacking 1.19/server-1.19.jar (versions:1.19) to versions/1.19/server-1.19.jar\n",
            "Unpacking com/github/oshi/oshi-core/5.8.5/oshi-core-5.8.5.jar (libraries:com.github.oshi:oshi-core:5.8.5) to libraries/com/github/oshi/oshi-core/5.8.5/oshi-core-5.8.5.jar\n",
            "Unpacking com/google/code/gson/gson/2.8.9/gson-2.8.9.jar (libraries:com.google.code.gson:gson:2.8.9) to libraries/com/google/code/gson/gson/2.8.9/gson-2.8.9.jar\n",
            "Unpacking com/google/guava/failureaccess/1.0.1/failureaccess-1.0.1.jar (libraries:com.google.guava:failureaccess:1.0.1) to libraries/com/google/guava/failureaccess/1.0.1/failureaccess-1.0.1.jar\n",
            "Unpacking com/google/guava/guava/31.0.1-jre/guava-31.0.1-jre.jar (libraries:com.google.guava:guava:31.0.1-jre) to libraries/com/google/guava/guava/31.0.1-jre/guava-31.0.1-jre.jar\n",
            "Unpacking com/mojang/authlib/3.5.41/authlib-3.5.41.jar (libraries:com.mojang:authlib:3.5.41) to libraries/com/mojang/authlib/3.5.41/authlib-3.5.41.jar\n",
            "Unpacking com/mojang/brigadier/1.0.18/brigadier-1.0.18.jar (libraries:com.mojang:brigadier:1.0.18) to libraries/com/mojang/brigadier/1.0.18/brigadier-1.0.18.jar\n",
            "Unpacking com/mojang/datafixerupper/5.0.28/datafixerupper-5.0.28.jar (libraries:com.mojang:datafixerupper:5.0.28) to libraries/com/mojang/datafixerupper/5.0.28/datafixerupper-5.0.28.jar\n",
            "Unpacking com/mojang/javabridge/1.2.24/javabridge-1.2.24.jar (libraries:com.mojang:javabridge:1.2.24) to libraries/com/mojang/javabridge/1.2.24/javabridge-1.2.24.jar\n",
            "Unpacking com/mojang/logging/1.0.0/logging-1.0.0.jar (libraries:com.mojang:logging:1.0.0) to libraries/com/mojang/logging/1.0.0/logging-1.0.0.jar\n",
            "Unpacking commons-io/commons-io/2.11.0/commons-io-2.11.0.jar (libraries:commons-io:commons-io:2.11.0) to libraries/commons-io/commons-io/2.11.0/commons-io-2.11.0.jar\n",
            "Unpacking io/netty/netty-buffer/4.1.76.Final/netty-buffer-4.1.76.Final.jar (libraries:io.netty:netty-buffer:4.1.76.Final) to libraries/io/netty/netty-buffer/4.1.76.Final/netty-buffer-4.1.76.Final.jar\n",
            "Unpacking io/netty/netty-codec/4.1.76.Final/netty-codec-4.1.76.Final.jar (libraries:io.netty:netty-codec:4.1.76.Final) to libraries/io/netty/netty-codec/4.1.76.Final/netty-codec-4.1.76.Final.jar\n",
            "Unpacking io/netty/netty-common/4.1.76.Final/netty-common-4.1.76.Final.jar (libraries:io.netty:netty-common:4.1.76.Final) to libraries/io/netty/netty-common/4.1.76.Final/netty-common-4.1.76.Final.jar\n",
            "Unpacking io/netty/netty-handler/4.1.76.Final/netty-handler-4.1.76.Final.jar (libraries:io.netty:netty-handler:4.1.76.Final) to libraries/io/netty/netty-handler/4.1.76.Final/netty-handler-4.1.76.Final.jar\n",
            "Unpacking io/netty/netty-resolver/4.1.76.Final/netty-resolver-4.1.76.Final.jar (libraries:io.netty:netty-resolver:4.1.76.Final) to libraries/io/netty/netty-resolver/4.1.76.Final/netty-resolver-4.1.76.Final.jar\n",
            "Unpacking io/netty/netty-transport/4.1.76.Final/netty-transport-4.1.76.Final.jar (libraries:io.netty:netty-transport:4.1.76.Final) to libraries/io/netty/netty-transport/4.1.76.Final/netty-transport-4.1.76.Final.jar\n",
            "Unpacking io/netty/netty-transport-classes-epoll/4.1.76.Final/netty-transport-classes-epoll-4.1.76.Final.jar (libraries:io.netty:netty-transport-classes-epoll:4.1.76.Final) to libraries/io/netty/netty-transport-classes-epoll/4.1.76.Final/netty-transport-classes-epoll-4.1.76.Final.jar\n",
            "Unpacking io/netty/netty-transport-native-epoll/4.1.76.Final/netty-transport-native-epoll-4.1.76.Final-linux-x86_64.jar (libraries:io.netty:netty-transport-native-epoll:4.1.76.Final:linux-x86_64) to libraries/io/netty/netty-transport-native-epoll/4.1.76.Final/netty-transport-native-epoll-4.1.76.Final-linux-x86_64.jar\n",
            "Unpacking io/netty/netty-transport-native-epoll/4.1.76.Final/netty-transport-native-epoll-4.1.76.Final-linux-aarch_64.jar (libraries:io.netty:netty-transport-native-epoll:4.1.76.Final:linux-aarch_64) to libraries/io/netty/netty-transport-native-epoll/4.1.76.Final/netty-transport-native-epoll-4.1.76.Final-linux-aarch_64.jar\n",
            "Unpacking io/netty/netty-transport-native-unix-common/4.1.76.Final/netty-transport-native-unix-common-4.1.76.Final.jar (libraries:io.netty:netty-transport-native-unix-common:4.1.76.Final) to libraries/io/netty/netty-transport-native-unix-common/4.1.76.Final/netty-transport-native-unix-common-4.1.76.Final.jar\n",
            "Unpacking it/unimi/dsi/fastutil/8.5.6/fastutil-8.5.6.jar (libraries:it.unimi.dsi:fastutil:8.5.6) to libraries/it/unimi/dsi/fastutil/8.5.6/fastutil-8.5.6.jar\n",
            "Unpacking net/java/dev/jna/jna/5.10.0/jna-5.10.0.jar (libraries:net.java.dev.jna:jna:5.10.0) to libraries/net/java/dev/jna/jna/5.10.0/jna-5.10.0.jar\n",
            "Unpacking net/java/dev/jna/jna-platform/5.10.0/jna-platform-5.10.0.jar (libraries:net.java.dev.jna:jna-platform:5.10.0) to libraries/net/java/dev/jna/jna-platform/5.10.0/jna-platform-5.10.0.jar\n",
            "Unpacking net/sf/jopt-simple/jopt-simple/5.0.4/jopt-simple-5.0.4.jar (libraries:net.sf.jopt-simple:jopt-simple:5.0.4) to libraries/net/sf/jopt-simple/jopt-simple/5.0.4/jopt-simple-5.0.4.jar\n",
            "Unpacking org/apache/commons/commons-lang3/3.12.0/commons-lang3-3.12.0.jar (libraries:org.apache.commons:commons-lang3:3.12.0) to libraries/org/apache/commons/commons-lang3/3.12.0/commons-lang3-3.12.0.jar\n",
            "Unpacking org/apache/logging/log4j/log4j-api/2.17.0/log4j-api-2.17.0.jar (libraries:org.apache.logging.log4j:log4j-api:2.17.0) to libraries/org/apache/logging/log4j/log4j-api/2.17.0/log4j-api-2.17.0.jar\n",
            "Unpacking org/apache/logging/log4j/log4j-core/2.17.0/log4j-core-2.17.0.jar (libraries:org.apache.logging.log4j:log4j-core:2.17.0) to libraries/org/apache/logging/log4j/log4j-core/2.17.0/log4j-core-2.17.0.jar\n",
            "Unpacking org/apache/logging/log4j/log4j-slf4j18-impl/2.17.0/log4j-slf4j18-impl-2.17.0.jar (libraries:org.apache.logging.log4j:log4j-slf4j18-impl:2.17.0) to libraries/org/apache/logging/log4j/log4j-slf4j18-impl/2.17.0/log4j-slf4j18-impl-2.17.0.jar\n",
            "Unpacking org/slf4j/slf4j-api/1.8.0-beta4/slf4j-api-1.8.0-beta4.jar (libraries:org.slf4j:slf4j-api:1.8.0-beta4) to libraries/org/slf4j/slf4j-api/1.8.0-beta4/slf4j-api-1.8.0-beta4.jar\n",
            "Starting net.minecraft.server.Main\n",
            "[16:38:52] [ServerMain/INFO]: Building unoptimized datafixer\n",
            "[16:38:55] [ServerMain/ERROR]: Failed to load properties from file: server.properties\n",
            "[16:38:55] [ServerMain/WARN]: Failed to load eula.txt\n",
            "[16:38:55] [ServerMain/INFO]: You need to agree to the EULA in order to run the server. Go to eula.txt for more info.\n",
            "\n"
          ]
        }
      ],
      "source": [
        "run('java -jar server.jar')"
      ]
    },
    {
      "cell_type": "code",
      "execution_count": 5,
      "metadata": {
        "id": "nDqo7qcgb_Ka"
      },
      "outputs": [],
      "source": [
        "# Read in the file\n",
        "with open('eula.txt', 'r') as file :\n",
        "  filedata = file.read()\n",
        "\n",
        "# Replace the target string\n",
        "filedata = filedata.replace('false', 'true')\n",
        "\n",
        "# Write the file out again\n",
        "with open('eula.txt', 'w') as file:\n",
        "  file.write(filedata)"
      ]
    },
    {
      "cell_type": "code",
      "execution_count": 6,
      "metadata": {
        "id": "7CBdIpvm3BgA"
      },
      "outputs": [],
      "source": [
        "# Read in the file\n",
        "with open('server.properties', 'r') as file :\n",
        "  filedata = file.read()\n",
        "\n",
        "# Replace the target string\n",
        "filedata = filedata.replace('online-mode=true', 'online-mode=false')\n",
        "\n",
        "# Write the file out again\n",
        "with open('server.properties', 'w') as file:\n",
        "  file.write(filedata)"
      ]
    },
    {
      "cell_type": "code",
      "execution_count": 7,
      "metadata": {
        "colab": {
          "base_uri": "https://localhost:8080/"
        },
        "id": "Yi8I2SY-kxKR",
        "outputId": "f3a3be54-bb82-49ea-991d-cae051bc3632"
      },
      "outputs": [
        {
          "output_type": "execute_result",
          "data": {
            "text/plain": [
              "7189521"
            ]
          },
          "metadata": {},
          "execution_count": 7
        }
      ],
      "source": [
        "import requests\n",
        "URL = \"https://bin.equinox.io/c/bNyj1mQVY4c/ngrok-v3-stable-linux-amd64.tgz\"\n",
        "response = requests.get(URL)\n",
        "open(\"ngrok-v3-stable-linux-amd64.tgz\", \"wb\").write(response.content)\n"
      ]
    },
    {
      "cell_type": "code",
      "execution_count": 8,
      "metadata": {
        "id": "-kPDtVd4l41w",
        "colab": {
          "base_uri": "https://localhost:8080/"
        },
        "outputId": "b99a0e92-2eee-4b1d-cff7-b8988b1daef3"
      },
      "outputs": [
        {
          "output_type": "stream",
          "name": "stdout",
          "text": [
            ">> sudo tar xvzf /content/ngrok-v3-stable-linux-amd64.tgz -C /content/\n",
            "ngrok\n",
            "\n"
          ]
        }
      ],
      "source": [
        "run ('sudo tar xvzf /content/ngrok-v3-stable-linux-amd64.tgz -C /content/')"
      ]
    },
    {
      "cell_type": "code",
      "execution_count": 9,
      "metadata": {
        "id": "N9ee7wCLnbd_",
        "colab": {
          "base_uri": "https://localhost:8080/"
        },
        "outputId": "09b67053-ac13-4386-eea6-bffa9b665e78"
      },
      "outputs": [
        {
          "output_type": "stream",
          "name": "stdout",
          "text": [
            ">> ./ngrok config add-authtoken 2C6x0lzidRyFnfQ62XqlE06OVf8_4ZCZuTWGyizVwvJHZanBi\n",
            "Authtoken saved to configuration file: /root/.config/ngrok/ngrok.yml\n",
            "\n"
          ]
        }
      ],
      "source": [
        "run('./ngrok config add-authtoken YOUR_TOKEN]}')\n"
      ]
    },
    {
      "cell_type": "code",
      "source": [
        "import zipfile\n",
        "with zipfile.ZipFile(\"world.zip\", 'r') as zip_ref:\n",
        "    zip_ref.extractall(\".\")"
      ],
      "metadata": {
        "id": "8E2ABex0I2FS"
      },
      "execution_count": null,
      "outputs": []
    },
    {
      "cell_type": "code",
      "source": [
        "!unzip world.zip"
      ],
      "metadata": {
        "id": "oGovFlUlYNbw"
      },
      "execution_count": null,
      "outputs": []
    },
    {
      "cell_type": "code",
      "execution_count": 17,
      "metadata": {
        "id": "mOwaTUIv0JsO",
        "colab": {
          "base_uri": "https://localhost:8080/",
          "height": 1000
        },
        "outputId": "1271d303-e7bd-4ec9-b04c-ec969312b0cd"
      },
      "outputs": [
        {
          "output_type": "stream",
          "name": "stdout",
          "text": [
            "func1: starting\n",
            ">> java -Xms4G -Xmx4G -jar server.jar nogui\n",
            "func2: starting\n",
            ">> ./ngrok tcp --region=eu 25565\n",
            "Starting net.minecraft.server.Main\n",
            "[16:54:13] [ServerMain/INFO]: Building unoptimized datafixer\n",
            "[16:54:17] [ServerMain/INFO]: Environment: authHost='https://authserver.mojang.com', accountsHost='https://api.mojang.com', sessionHost='https://sessionserver.mojang.com', servicesHost='https://api.minecraftservices.com', name='PROD'\n",
            "[16:54:25] [ServerMain/INFO]: Loaded 7 recipes\n",
            "[16:54:25] [ServerMain/INFO]: Loaded 1179 advancements\n",
            "[16:54:30] [Server thread/INFO]: Starting minecraft server version 1.19\n",
            "[16:54:30] [Server thread/INFO]: Loading properties\n",
            "[16:54:30] [Server thread/INFO]: Default game type: SURVIVAL\n",
            "[16:54:30] [Server thread/INFO]: Generating keypair\n",
            "[16:54:30] [Server thread/INFO]: Starting Minecraft server on *:25565\n",
            "[16:54:30] [Server thread/INFO]: Using epoll channel type\n",
            "[16:54:31] [Server thread/WARN]: **** SERVER IS RUNNING IN OFFLINE/INSECURE MODE!\n",
            "[16:54:31] [Server thread/WARN]: The server will make no attempt to authenticate usernames. Beware.\n",
            "[16:54:31] [Server thread/WARN]: While this makes the game possible to play without internet access, it also opens up the ability for hackers to connect with any username they choose.\n",
            "[16:54:31] [Server thread/WARN]: To change this, set \"online-mode\" to \"true\" in the server.properties file.\n",
            "[16:54:31] [Server thread/INFO]: Preparing level \"world\"\n",
            "[16:55:11] [Server thread/INFO]: Preparing start region for dimension minecraft:overworld\n",
            "[16:55:29] [Worker-Main-1/INFO]: Preparing spawn area: 0%\n",
            "[16:55:29] [Worker-Main-1/INFO]: Preparing spawn area: 0%\n",
            "[16:55:29] [Worker-Main-1/INFO]: Preparing spawn area: 0%\n",
            "[16:55:29] [Worker-Main-1/INFO]: Preparing spawn area: 0%\n",
            "[16:55:29] [Worker-Main-1/INFO]: Preparing spawn area: 0%\n",
            "[16:55:29] [Worker-Main-1/INFO]: Preparing spawn area: 0%\n",
            "[16:55:29] [Worker-Main-1/INFO]: Preparing spawn area: 0%\n",
            "[16:55:29] [Worker-Main-1/INFO]: Preparing spawn area: 0%\n",
            "[16:55:29] [Worker-Main-1/INFO]: Preparing spawn area: 0%\n",
            "[16:55:29] [Worker-Main-1/INFO]: Preparing spawn area: 0%\n",
            "[16:55:29] [Worker-Main-1/INFO]: Preparing spawn area: 0%\n",
            "[16:55:29] [Worker-Main-1/INFO]: Preparing spawn area: 0%\n",
            "[16:55:29] [Worker-Main-1/INFO]: Preparing spawn area: 0%\n",
            "[16:55:29] [Worker-Main-1/INFO]: Preparing spawn area: 0%\n",
            "[16:55:29] [Worker-Main-1/INFO]: Preparing spawn area: 0%\n",
            "[16:55:29] [Worker-Main-1/INFO]: Preparing spawn area: 0%\n",
            "[16:55:29] [Worker-Main-1/INFO]: Preparing spawn area: 0%\n",
            "[16:55:29] [Worker-Main-1/INFO]: Preparing spawn area: 0%\n",
            "[16:55:29] [Worker-Main-1/INFO]: Preparing spawn area: 0%\n",
            "[16:55:29] [Worker-Main-1/INFO]: Preparing spawn area: 0%\n",
            "[16:55:29] [Worker-Main-1/INFO]: Preparing spawn area: 0%\n",
            "[16:55:29] [Worker-Main-1/INFO]: Preparing spawn area: 0%\n",
            "[16:55:29] [Worker-Main-1/INFO]: Preparing spawn area: 0%\n",
            "[16:55:29] [Worker-Main-1/INFO]: Preparing spawn area: 0%\n",
            "[16:55:29] [Worker-Main-1/INFO]: Preparing spawn area: 0%\n",
            "[16:55:29] [Worker-Main-1/INFO]: Preparing spawn area: 0%\n",
            "[16:55:29] [Worker-Main-1/INFO]: Preparing spawn area: 0%\n",
            "[16:55:29] [Worker-Main-1/INFO]: Preparing spawn area: 0%\n",
            "[16:55:29] [Worker-Main-1/INFO]: Preparing spawn area: 0%\n",
            "[16:55:29] [Worker-Main-1/INFO]: Preparing spawn area: 0%\n",
            "[16:55:29] [Worker-Main-1/INFO]: Preparing spawn area: 0%\n",
            "[16:55:29] [Worker-Main-1/INFO]: Preparing spawn area: 0%\n",
            "[16:55:29] [Worker-Main-1/INFO]: Preparing spawn area: 0%\n",
            "[16:55:29] [Worker-Main-1/INFO]: Preparing spawn area: 0%\n",
            "[16:55:29] [Worker-Main-1/INFO]: Preparing spawn area: 0%\n",
            "[16:55:29] [Worker-Main-1/INFO]: Preparing spawn area: 0%\n",
            "[16:55:29] [Worker-Main-1/INFO]: Preparing spawn area: 0%\n",
            "[16:55:29] [Worker-Main-1/INFO]: Preparing spawn area: 0%\n",
            "[16:55:30] [Worker-Main-1/INFO]: Preparing spawn area: 0%\n",
            "[16:55:30] [Worker-Main-1/INFO]: Preparing spawn area: 0%\n",
            "[16:55:31] [Worker-Main-1/INFO]: Preparing spawn area: 0%\n",
            "[16:55:31] [Worker-Main-1/INFO]: Preparing spawn area: 0%\n",
            "[16:55:32] [Worker-Main-1/INFO]: Preparing spawn area: 0%\n",
            "[16:55:32] [Worker-Main-1/INFO]: Preparing spawn area: 0%\n",
            "[16:55:33] [Worker-Main-1/INFO]: Preparing spawn area: 3%\n",
            "[16:55:33] [Worker-Main-1/INFO]: Preparing spawn area: 79%\n",
            "[16:55:3\n",
            "func2: finishing\n"
          ]
        },
        {
          "output_type": "error",
          "ename": "KeyboardInterrupt",
          "evalue": "ignored",
          "traceback": [
            "\u001b[0;31m---------------------------------------------------------------------------\u001b[0m",
            "\u001b[0;31mKeyboardInterrupt\u001b[0m                         Traceback (most recent call last)",
            "\u001b[0;32m<ipython-input-17-b24f9507bee1>\u001b[0m in \u001b[0;36m<module>\u001b[0;34m()\u001b[0m\n\u001b[1;32m     16\u001b[0m   \u001b[0mp2\u001b[0m \u001b[0;34m=\u001b[0m \u001b[0mProcess\u001b[0m\u001b[0;34m(\u001b[0m\u001b[0mtarget\u001b[0m\u001b[0;34m=\u001b[0m\u001b[0mfunc2\u001b[0m\u001b[0;34m)\u001b[0m\u001b[0;34m\u001b[0m\u001b[0;34m\u001b[0m\u001b[0m\n\u001b[1;32m     17\u001b[0m   \u001b[0mp2\u001b[0m\u001b[0;34m.\u001b[0m\u001b[0mstart\u001b[0m\u001b[0;34m(\u001b[0m\u001b[0;34m)\u001b[0m\u001b[0;34m\u001b[0m\u001b[0;34m\u001b[0m\u001b[0m\n\u001b[0;32m---> 18\u001b[0;31m   \u001b[0mp1\u001b[0m\u001b[0;34m.\u001b[0m\u001b[0mjoin\u001b[0m\u001b[0;34m(\u001b[0m\u001b[0;34m)\u001b[0m\u001b[0;34m\u001b[0m\u001b[0;34m\u001b[0m\u001b[0m\n\u001b[0m\u001b[1;32m     19\u001b[0m   \u001b[0mp2\u001b[0m\u001b[0;34m.\u001b[0m\u001b[0mjoin\u001b[0m\u001b[0;34m(\u001b[0m\u001b[0;34m)\u001b[0m\u001b[0;34m\u001b[0m\u001b[0;34m\u001b[0m\u001b[0m\n",
            "\u001b[0;32m/usr/lib/python3.7/multiprocessing/process.py\u001b[0m in \u001b[0;36mjoin\u001b[0;34m(self, timeout)\u001b[0m\n\u001b[1;32m    138\u001b[0m         \u001b[0;32massert\u001b[0m \u001b[0mself\u001b[0m\u001b[0;34m.\u001b[0m\u001b[0m_parent_pid\u001b[0m \u001b[0;34m==\u001b[0m \u001b[0mos\u001b[0m\u001b[0;34m.\u001b[0m\u001b[0mgetpid\u001b[0m\u001b[0;34m(\u001b[0m\u001b[0;34m)\u001b[0m\u001b[0;34m,\u001b[0m \u001b[0;34m'can only join a child process'\u001b[0m\u001b[0;34m\u001b[0m\u001b[0;34m\u001b[0m\u001b[0m\n\u001b[1;32m    139\u001b[0m         \u001b[0;32massert\u001b[0m \u001b[0mself\u001b[0m\u001b[0;34m.\u001b[0m\u001b[0m_popen\u001b[0m \u001b[0;32mis\u001b[0m \u001b[0;32mnot\u001b[0m \u001b[0;32mNone\u001b[0m\u001b[0;34m,\u001b[0m \u001b[0;34m'can only join a started process'\u001b[0m\u001b[0;34m\u001b[0m\u001b[0;34m\u001b[0m\u001b[0m\n\u001b[0;32m--> 140\u001b[0;31m         \u001b[0mres\u001b[0m \u001b[0;34m=\u001b[0m \u001b[0mself\u001b[0m\u001b[0;34m.\u001b[0m\u001b[0m_popen\u001b[0m\u001b[0;34m.\u001b[0m\u001b[0mwait\u001b[0m\u001b[0;34m(\u001b[0m\u001b[0mtimeout\u001b[0m\u001b[0;34m)\u001b[0m\u001b[0;34m\u001b[0m\u001b[0;34m\u001b[0m\u001b[0m\n\u001b[0m\u001b[1;32m    141\u001b[0m         \u001b[0;32mif\u001b[0m \u001b[0mres\u001b[0m \u001b[0;32mis\u001b[0m \u001b[0;32mnot\u001b[0m \u001b[0;32mNone\u001b[0m\u001b[0;34m:\u001b[0m\u001b[0;34m\u001b[0m\u001b[0;34m\u001b[0m\u001b[0m\n\u001b[1;32m    142\u001b[0m             \u001b[0m_children\u001b[0m\u001b[0;34m.\u001b[0m\u001b[0mdiscard\u001b[0m\u001b[0;34m(\u001b[0m\u001b[0mself\u001b[0m\u001b[0;34m)\u001b[0m\u001b[0;34m\u001b[0m\u001b[0;34m\u001b[0m\u001b[0m\n",
            "\u001b[0;32m/usr/lib/python3.7/multiprocessing/popen_fork.py\u001b[0m in \u001b[0;36mwait\u001b[0;34m(self, timeout)\u001b[0m\n\u001b[1;32m     46\u001b[0m                     \u001b[0;32mreturn\u001b[0m \u001b[0;32mNone\u001b[0m\u001b[0;34m\u001b[0m\u001b[0;34m\u001b[0m\u001b[0m\n\u001b[1;32m     47\u001b[0m             \u001b[0;31m# This shouldn't block if wait() returned successfully.\u001b[0m\u001b[0;34m\u001b[0m\u001b[0;34m\u001b[0m\u001b[0;34m\u001b[0m\u001b[0m\n\u001b[0;32m---> 48\u001b[0;31m             \u001b[0;32mreturn\u001b[0m \u001b[0mself\u001b[0m\u001b[0;34m.\u001b[0m\u001b[0mpoll\u001b[0m\u001b[0;34m(\u001b[0m\u001b[0mos\u001b[0m\u001b[0;34m.\u001b[0m\u001b[0mWNOHANG\u001b[0m \u001b[0;32mif\u001b[0m \u001b[0mtimeout\u001b[0m \u001b[0;34m==\u001b[0m \u001b[0;36m0.0\u001b[0m \u001b[0;32melse\u001b[0m \u001b[0;36m0\u001b[0m\u001b[0;34m)\u001b[0m\u001b[0;34m\u001b[0m\u001b[0;34m\u001b[0m\u001b[0m\n\u001b[0m\u001b[1;32m     49\u001b[0m         \u001b[0;32mreturn\u001b[0m \u001b[0mself\u001b[0m\u001b[0;34m.\u001b[0m\u001b[0mreturncode\u001b[0m\u001b[0;34m\u001b[0m\u001b[0;34m\u001b[0m\u001b[0m\n\u001b[1;32m     50\u001b[0m \u001b[0;34m\u001b[0m\u001b[0m\n",
            "\u001b[0;32m/usr/lib/python3.7/multiprocessing/popen_fork.py\u001b[0m in \u001b[0;36mpoll\u001b[0;34m(self, flag)\u001b[0m\n\u001b[1;32m     26\u001b[0m         \u001b[0;32mif\u001b[0m \u001b[0mself\u001b[0m\u001b[0;34m.\u001b[0m\u001b[0mreturncode\u001b[0m \u001b[0;32mis\u001b[0m \u001b[0;32mNone\u001b[0m\u001b[0;34m:\u001b[0m\u001b[0;34m\u001b[0m\u001b[0;34m\u001b[0m\u001b[0m\n\u001b[1;32m     27\u001b[0m             \u001b[0;32mtry\u001b[0m\u001b[0;34m:\u001b[0m\u001b[0;34m\u001b[0m\u001b[0;34m\u001b[0m\u001b[0m\n\u001b[0;32m---> 28\u001b[0;31m                 \u001b[0mpid\u001b[0m\u001b[0;34m,\u001b[0m \u001b[0msts\u001b[0m \u001b[0;34m=\u001b[0m \u001b[0mos\u001b[0m\u001b[0;34m.\u001b[0m\u001b[0mwaitpid\u001b[0m\u001b[0;34m(\u001b[0m\u001b[0mself\u001b[0m\u001b[0;34m.\u001b[0m\u001b[0mpid\u001b[0m\u001b[0;34m,\u001b[0m \u001b[0mflag\u001b[0m\u001b[0;34m)\u001b[0m\u001b[0;34m\u001b[0m\u001b[0;34m\u001b[0m\u001b[0m\n\u001b[0m\u001b[1;32m     29\u001b[0m             \u001b[0;32mexcept\u001b[0m \u001b[0mOSError\u001b[0m \u001b[0;32mas\u001b[0m \u001b[0me\u001b[0m\u001b[0;34m:\u001b[0m\u001b[0;34m\u001b[0m\u001b[0;34m\u001b[0m\u001b[0m\n\u001b[1;32m     30\u001b[0m                 \u001b[0;31m# Child process not yet created. See #1731717\u001b[0m\u001b[0;34m\u001b[0m\u001b[0;34m\u001b[0m\u001b[0;34m\u001b[0m\u001b[0m\n",
            "\u001b[0;31mKeyboardInterrupt\u001b[0m: "
          ]
        }
      ],
      "source": [
        "from multiprocessing import Process\n",
        "\n",
        "def func1():\n",
        "  print ('func1: starting')\n",
        "  run('java -Xms4G -Xmx4G -jar server.jar nogui')\n",
        "  print ('func1: finishing')\n",
        "\n",
        "def func2():\n",
        "  print ('func2: starting')\n",
        "  run('./ngrok tcp --region=eu 25565')\n",
        "  print ('func2: finishing')\n",
        "\n",
        "if __name__ == '__main__':\n",
        "  p1 = Process(target=func1)\n",
        "  p1.start()\n",
        "  p2 = Process(target=func2)\n",
        "  p2.start()\n",
        "  p1.join()\n",
        "  p2.join()"
      ]
    },
    {
      "cell_type": "code",
      "source": [
        "import requests\n",
        "URL = \"https://anonfiles.com/v5Dbq5zcy2/Myworld_zip\"\n",
        "response = requests.get(URL)\n",
        "open(\"world.zip\", \"wb\").write(response.content)\n",
        "\n"
      ],
      "metadata": {
        "colab": {
          "base_uri": "https://localhost:8080/"
        },
        "id": "zPBp3uVsF3n6",
        "outputId": "266b383f-26f0-4689-bc99-a2801bb6e655"
      },
      "execution_count": null,
      "outputs": [
        {
          "output_type": "execute_result",
          "data": {
            "text/plain": [
              "11290"
            ]
          },
          "metadata": {},
          "execution_count": 44
        }
      ]
    },
    {
      "cell_type": "code",
      "source": [
        "!zip -r /content/worldSave.zip world/\n",
        "\n",
        "from google.colab import files\n",
        "files.download(\"/content/worldSave.zip\")"
      ],
      "metadata": {
        "id": "UqXqBGNnOoJT",
        "colab": {
          "base_uri": "https://localhost:8080/",
          "height": 1000
        },
        "outputId": "db2f34d6-6f08-4cd3-ba44-cfa48a2ca281"
      },
      "execution_count": 18,
      "outputs": [
        {
          "output_type": "stream",
          "name": "stdout",
          "text": [
            "  adding: world/ (stored 0%)\n",
            "  adding: world/DIM1/ (stored 0%)\n",
            "  adding: world/DIM1/data/ (stored 0%)\n",
            "  adding: world/DIM1/data/raids_end.dat (stored 0%)\n",
            "  adding: world/level.dat_old (stored 0%)\n",
            "  adding: world/stats/ (stored 0%)\n",
            "  adding: world/stats/9d04145d-7c97-4f36-9ff6-ce2b98f505f0.json (deflated 45%)\n",
            "  adding: world/stats/d256fbb0-e53b-3496-89d2-20ac5d3ad235.json (deflated 75%)\n",
            "  adding: world/stats/91abcc5c-b7f4-36ce-8037-b4bd07f400e4.json (deflated 66%)\n",
            "  adding: world/data/ (stored 0%)\n",
            "  adding: world/data/raids.dat (stored 0%)\n",
            "  adding: world/entities/ (stored 0%)\n",
            "  adding: world/entities/r.0.-1.mca (deflated 77%)\n",
            "  adding: world/entities/r.-1.-1.mca (deflated 80%)\n",
            "  adding: world/entities/r.-1.1.mca (deflated 78%)\n",
            "  adding: world/entities/r.0.0.mca (deflated 77%)\n",
            "  adding: world/entities/r.-1.0.mca (deflated 76%)\n",
            "  adding: world/region/ (stored 0%)\n",
            "  adding: world/region/r.0.-1.mca (deflated 27%)\n",
            "  adding: world/region/r.-2.-1.mca (deflated 95%)\n",
            "  adding: world/region/r.-2.0.mca (deflated 89%)\n",
            "  adding: world/region/r.-1.-1.mca (deflated 30%)\n",
            "  adding: world/region/r.1.-1.mca (deflated 97%)\n",
            "  adding: world/region/r.-1.1.mca (deflated 18%)\n",
            "  adding: world/region/r.1.0.mca (deflated 94%)\n",
            "  adding: world/region/r.-2.1.mca (deflated 91%)\n",
            "  adding: world/region/r.0.0.mca (deflated 33%)\n",
            "  adding: world/region/r.-1.0.mca (deflated 10%)\n",
            "  adding: world/region/r.0.1.mca (deflated 81%)\n",
            "  adding: world/datapacks/ (stored 0%)\n",
            "  adding: world/icon.png (deflated 3%)\n",
            "  adding: world/DIM-1/ (stored 0%)\n",
            "  adding: world/DIM-1/data/ (stored 0%)\n",
            "  adding: world/DIM-1/data/raids.dat (stored 0%)\n",
            "  adding: world/session.lock (stored 0%)\n",
            "  adding: world/advancements/ (stored 0%)\n",
            "  adding: world/advancements/9d04145d-7c97-4f36-9ff6-ce2b98f505f0.json (deflated 26%)\n",
            "  adding: world/advancements/d256fbb0-e53b-3496-89d2-20ac5d3ad235.json (deflated 92%)\n",
            "  adding: world/advancements/91abcc5c-b7f4-36ce-8037-b4bd07f400e4.json (deflated 88%)\n",
            "  adding: world/level.dat (stored 0%)\n",
            "  adding: world/playerdata/ (stored 0%)\n",
            "  adding: world/playerdata/91abcc5c-b7f4-36ce-8037-b4bd07f400e4.dat (stored 0%)\n",
            "  adding: world/playerdata/91abcc5c-b7f4-36ce-8037-b4bd07f400e4.dat_old (stored 0%)\n",
            "  adding: world/playerdata/9d04145d-7c97-4f36-9ff6-ce2b98f505f0.dat_old (stored 0%)\n",
            "  adding: world/playerdata/d256fbb0-e53b-3496-89d2-20ac5d3ad235.dat_old (stored 0%)\n",
            "  adding: world/playerdata/9d04145d-7c97-4f36-9ff6-ce2b98f505f0.dat (stored 0%)\n",
            "  adding: world/playerdata/d256fbb0-e53b-3496-89d2-20ac5d3ad235.dat (stored 0%)\n",
            "  adding: world/poi/ (stored 0%)\n",
            "  adding: world/poi/r.0.-1.mca (deflated 98%)\n",
            "  adding: world/poi/r.-2.-1.mca (stored 0%)\n",
            "  adding: world/poi/r.-2.0.mca (stored 0%)\n",
            "  adding: world/poi/r.-1.-1.mca (stored 0%)\n",
            "  adding: world/poi/r.-1.1.mca (deflated 97%)\n",
            "  adding: world/poi/r.-2.1.mca (stored 0%)\n",
            "  adding: world/poi/r.0.0.mca (deflated 97%)\n",
            "  adding: world/poi/r.-1.0.mca (deflated 97%)\n",
            "  adding: world/poi/r.0.1.mca (stored 0%)\n"
          ]
        },
        {
          "output_type": "display_data",
          "data": {
            "text/plain": [
              "<IPython.core.display.Javascript object>"
            ],
            "application/javascript": [
              "\n",
              "    async function download(id, filename, size) {\n",
              "      if (!google.colab.kernel.accessAllowed) {\n",
              "        return;\n",
              "      }\n",
              "      const div = document.createElement('div');\n",
              "      const label = document.createElement('label');\n",
              "      label.textContent = `Downloading \"${filename}\": `;\n",
              "      div.appendChild(label);\n",
              "      const progress = document.createElement('progress');\n",
              "      progress.max = size;\n",
              "      div.appendChild(progress);\n",
              "      document.body.appendChild(div);\n",
              "\n",
              "      const buffers = [];\n",
              "      let downloaded = 0;\n",
              "\n",
              "      const channel = await google.colab.kernel.comms.open(id);\n",
              "      // Send a message to notify the kernel that we're ready.\n",
              "      channel.send({})\n",
              "\n",
              "      for await (const message of channel.messages) {\n",
              "        // Send a message to notify the kernel that we're ready.\n",
              "        channel.send({})\n",
              "        if (message.buffers) {\n",
              "          for (const buffer of message.buffers) {\n",
              "            buffers.push(buffer);\n",
              "            downloaded += buffer.byteLength;\n",
              "            progress.value = downloaded;\n",
              "          }\n",
              "        }\n",
              "      }\n",
              "      const blob = new Blob(buffers, {type: 'application/binary'});\n",
              "      const a = document.createElement('a');\n",
              "      a.href = window.URL.createObjectURL(blob);\n",
              "      a.download = filename;\n",
              "      div.appendChild(a);\n",
              "      a.click();\n",
              "      div.remove();\n",
              "    }\n",
              "  "
            ]
          },
          "metadata": {}
        },
        {
          "output_type": "display_data",
          "data": {
            "text/plain": [
              "<IPython.core.display.Javascript object>"
            ],
            "application/javascript": [
              "download(\"download_bdb7f63c-ff52-451a-bfee-d4d982aaaf5d\", \"worldSave.zip\", 28393458)"
            ]
          },
          "metadata": {}
        }
      ]
    }
  ],
  "metadata": {
    "colab": {
      "collapsed_sections": [],
      "name": "mc.ipynb",
      "provenance": [],
      "authorship_tag": "ABX9TyMHadEPYz56gyktACoHGnak",
      "include_colab_link": true
    },
    "kernelspec": {
      "display_name": "Python 3",
      "name": "python3"
    },
    "language_info": {
      "name": "python"
    }
  },
  "nbformat": 4,
  "nbformat_minor": 0
}