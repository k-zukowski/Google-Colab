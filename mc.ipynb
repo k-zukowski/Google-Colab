{
  "nbformat": 4,
  "nbformat_minor": 0,
  "metadata": {
    "colab": {
      "name": "mc.ipynb",
      "provenance": [],
      "collapsed_sections": [],
      "authorship_tag": "ABX9TyOwqmmT5w9PTMpXVQtYIliC",
      "include_colab_link": true
    },
    "kernelspec": {
      "name": "python3",
      "display_name": "Python 3"
    },
    "language_info": {
      "name": "python"
    }
  },
  "cells": [
    {
      "cell_type": "markdown",
      "metadata": {
        "id": "view-in-github",
        "colab_type": "text"
      },
      "source": [
        "<a href=\"https://colab.research.google.com/github/k-zukowski/Google-Colab/blob/main/mc.ipynb\" target=\"_parent\"><img src=\"https://colab.research.google.com/assets/colab-badge.svg\" alt=\"Open In Colab\"/></a>"
      ]
    },
    {
      "cell_type": "code",
      "source": [
        "# Run and print a shell command.\n",
        "def run(cmd):\n",
        "  print('>> {}'.format(cmd))\n",
        "  !{cmd}  # This is magic to run 'cmd' in the shell.\n",
        "  print('')"
      ],
      "metadata": {
        "id": "OkbGqT-PYjV3"
      },
      "execution_count": 45,
      "outputs": []
    },
    {
      "cell_type": "code",
      "source": [
        "import requests\n",
        "URL = \"https://launcher.mojang.com/v1/objects/e00c4052dac1d59a1188b2aa9d5a87113aaf1122/server.jar\"\n",
        "response = requests.get(URL)\n",
        "open(\"server.jar\", \"wb\").write(response.content)\n",
        "\n"
      ],
      "metadata": {
        "colab": {
          "base_uri": "https://localhost:8080/"
        },
        "id": "v3CmSf_2V-Vd",
        "outputId": "09b30380-d29b-4615-c178-f0aaddd275ab"
      },
      "execution_count": 14,
      "outputs": [
        {
          "output_type": "execute_result",
          "data": {
            "text/plain": [
              "45538778"
            ]
          },
          "metadata": {},
          "execution_count": 14
        }
      ]
    },
    {
      "cell_type": "code",
      "source": [
        "import os       #importing os to set environment variable\n",
        "def install_java():\n",
        "  !apt-get install -y openjdk-8-jdk-headless -qq > /dev/null      #install openjdk\n",
        "  os.environ[\"JAVA_HOME\"] = \"/usr/lib/jvm/java-8-openjdk-amd64\"     #set environment variable\n",
        "  !java -version       #check java version\n",
        "install_java()\n"
      ],
      "metadata": {
        "id": "XK5vskERXgn3"
      },
      "execution_count": null,
      "outputs": []
    },
    {
      "cell_type": "code",
      "source": [
        "run('add-apt-repository -y ppa:openjdk-r/ppa')\n",
        "run('sudo apt install -y openjdk-17-jdk')\n",
        "run('java -version')"
      ],
      "metadata": {
        "id": "EZuhvHWkhttZ"
      },
      "execution_count": null,
      "outputs": []
    },
    {
      "cell_type": "code",
      "source": [
        "# Update and upgrade the system before installing anything else.\n",
        "run('apt-get update > /dev/null')\n",
        "run('apt-get upgrade > /dev/null')\n",
        "\n",
        "# Install the Java JDK.\n",
        "run('apt-get install default-jdk > /dev/null')\n",
        "\n",
        "# Check the Java version to see if everything is working well.\n",
        "run('javac -version')"
      ],
      "metadata": {
        "id": "8CZJBEZWf8ZM"
      },
      "execution_count": null,
      "outputs": []
    },
    {
      "cell_type": "code",
      "source": [
        "run('java -jar server.jar')"
      ],
      "metadata": {
        "id": "V9T4jzwTZvSX"
      },
      "execution_count": null,
      "outputs": []
    },
    {
      "cell_type": "code",
      "source": [
        "# Read in the file\n",
        "with open('eula.txt', 'r') as file :\n",
        "  filedata = file.read()\n",
        "\n",
        "# Replace the target string\n",
        "filedata = filedata.replace('false', 'true')\n",
        "\n",
        "# Write the file out again\n",
        "with open('eula.txt', 'w') as file:\n",
        "  file.write(filedata)"
      ],
      "metadata": {
        "id": "nDqo7qcgb_Ka"
      },
      "execution_count": 54,
      "outputs": []
    },
    {
      "cell_type": "code",
      "source": [
        "import requests\n",
        "URL = \"https://bin.equinox.io/c/bNyj1mQVY4c/ngrok-v3-stable-linux-amd64.tgz\"\n",
        "response = requests.get(URL)\n",
        "open(\"ngrok-v3-stable-linux-amd64.tgz\", \"wb\").write(response.content)\n"
      ],
      "metadata": {
        "colab": {
          "base_uri": "https://localhost:8080/"
        },
        "id": "Yi8I2SY-kxKR",
        "outputId": "4420de57-9e09-404c-da02-5bdf007ba7e9"
      },
      "execution_count": 80,
      "outputs": [
        {
          "output_type": "execute_result",
          "data": {
            "text/plain": [
              "7189521"
            ]
          },
          "metadata": {},
          "execution_count": 80
        }
      ]
    },
    {
      "cell_type": "code",
      "source": [
        "run ('sudo tar xvzf /home/ngrok-v3-stable-linux-amd64.tgz -C /home/')"
      ],
      "metadata": {
        "id": "-kPDtVd4l41w"
      },
      "execution_count": null,
      "outputs": []
    },
    {
      "cell_type": "code",
      "source": [
        "run(\"./ngrok\")"
      ],
      "metadata": {
        "id": "Rg7fLgayl-Ot"
      },
      "execution_count": null,
      "outputs": []
    },
    {
      "cell_type": "code",
      "source": [
        "run('./ngrok config add-authtoken 2C6x0lzidRyFnfQ62XqlE06OVf8_4ZCZuTWGyizVwvJHZanBi')\n"
      ],
      "metadata": {
        "id": "N9ee7wCLnbd_"
      },
      "execution_count": null,
      "outputs": []
    },
    {
      "cell_type": "code",
      "source": [
        "from multiprocessing import Process\n",
        "\n",
        "def func1():\n",
        "  print ('func1: starting')\n",
        "  run('java -Xms4G -Xmx4G -jar server.jar nogui')\n",
        "  print ('func1: finishing')\n",
        "\n",
        "def func2():\n",
        "  print ('func2: starting')\n",
        "  run('./ngrok tcp --region=eu 25565')\n",
        "  print ('func2: finishing')\n",
        "\n",
        "if __name__ == '__main__':\n",
        "  p1 = Process(target=func1)\n",
        "  p1.start()\n",
        "  p2 = Process(target=func2)\n",
        "  p2.start()\n",
        "  p1.join()\n",
        "  p2.join()"
      ],
      "metadata": {
        "colab": {
          "base_uri": "https://localhost:8080/"
        },
        "id": "mOwaTUIv0JsO",
        "outputId": "61163e81-01c7-4fb2-c78f-79ed8e604d3b"
      },
      "execution_count": null,
      "outputs": [
        {
          "metadata": {
            "tags": null
          },
          "name": "stdout",
          "output_type": "stream",
          "text": [
            "func1: starting\n",
            ">> java -Xms4G -Xmx4G -jar server.jar nogui\n",
            "func2: starting\n",
            ">> ./ngrok tcp --region=eu 25565\n"
          ]
        }
      ]
    },
    {
      "cell_type": "code",
      "source": [
        "cat server.properties"
      ],
      "metadata": {
        "colab": {
          "base_uri": "https://localhost:8080/"
        },
        "id": "lhtaaNYr1Tky",
        "outputId": "f38c1661-7447-4cb2-b36f-b7fc595037c7"
      },
      "execution_count": 119,
      "outputs": [
        {
          "output_type": "stream",
          "name": "stdout",
          "text": [
            "#Minecraft server properties\n",
            "#Mon Jul 18 10:25:40 UTC 2022\n",
            "enable-jmx-monitoring=false\n",
            "rcon.port=25575\n",
            "level-seed=\n",
            "gamemode=survival\n",
            "enable-command-block=false\n",
            "enable-query=false\n",
            "generator-settings={}\n",
            "enforce-secure-profile=false\n",
            "level-name=world\n",
            "motd=A Minecraft Server\n",
            "query.port=25565\n",
            "pvp=true\n",
            "generate-structures=true\n",
            "max-chained-neighbor-updates=1000000\n",
            "difficulty=easy\n",
            "network-compression-threshold=256\n",
            "max-tick-time=60000\n",
            "require-resource-pack=false\n",
            "use-native-transport=true\n",
            "max-players=20\n",
            "online-mode=false\n",
            "enable-status=true\n",
            "allow-flight=false\n",
            "broadcast-rcon-to-ops=true\n",
            "view-distance=10\n",
            "server-ip=\n",
            "resource-pack-prompt=\n",
            "allow-nether=true\n",
            "server-port=25565\n",
            "enable-rcon=false\n",
            "sync-chunk-writes=true\n",
            "op-permission-level=4\n",
            "prevent-proxy-connections=false\n",
            "hide-online-players=false\n",
            "resource-pack=\n",
            "entity-broadcast-range-percentage=100\n",
            "simulation-distance=10\n",
            "rcon.password=\n",
            "player-idle-timeout=0\n",
            "force-gamemode=false\n",
            "rate-limit=0\n",
            "hardcore=false\n",
            "white-list=false\n",
            "broadcast-console-to-ops=true\n",
            "spawn-npcs=true\n",
            "previews-chat=false\n",
            "spawn-animals=true\n",
            "function-permission-level=2\n",
            "level-type=minecraft\\:normal\n",
            "text-filtering-config=\n",
            "spawn-monsters=true\n",
            "enforce-whitelist=false\n",
            "spawn-protection=16\n",
            "resource-pack-sha1=\n",
            "max-world-size=29999984\n"
          ]
        }
      ]
    },
    {
      "cell_type": "code",
      "source": [
        "# Read in the file\n",
        "with open('server.properties', 'r') as file :\n",
        "  filedata = file.read()\n",
        "\n",
        "# Replace the target string\n",
        "filedata = filedata.replace('online-mode=true', 'online-mode=false')\n",
        "\n",
        "# Write the file out again\n",
        "with open('server.properties', 'w') as file:\n",
        "  file.write(filedata)"
      ],
      "metadata": {
        "id": "7CBdIpvm3BgA"
      },
      "execution_count": 118,
      "outputs": []
    }
  ]
}